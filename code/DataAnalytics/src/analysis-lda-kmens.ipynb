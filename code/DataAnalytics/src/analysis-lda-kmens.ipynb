{
 "cells": [
  {
   "cell_type": "markdown",
   "metadata": {},
   "source": [
    "# Clustering Analysis - LDA + kMeans\n",
    "- **Created by Andrés Segura-Tinoco**\n",
    "- **Created on May 26, 2022**"
   ]
  },
  {
   "cell_type": "markdown",
   "metadata": {},
   "source": [
    "## Loading main libraries and data"
   ]
  },
  {
   "cell_type": "code",
   "execution_count": 1,
   "metadata": {},
   "outputs": [],
   "source": [
    "# Load the Pandas libraries\n",
    "import pandas as pd\n",
    "import numpy as np"
   ]
  },
  {
   "cell_type": "code",
   "execution_count": 2,
   "metadata": {},
   "outputs": [],
   "source": [
    "# Load scikit-learn libraries\n",
    "from sklearn.cluster import KMeans\n",
    "from sklearn.discriminant_analysis import LinearDiscriminantAnalysis as LDA\n",
    "from sklearn.preprocessing import LabelEncoder\n",
    "from sklearn.preprocessing import StandardScaler"
   ]
  },
  {
   "cell_type": "code",
   "execution_count": 3,
   "metadata": {},
   "outputs": [],
   "source": [
    "# Load visualization libraries\n",
    "import matplotlib.pyplot as plt\n",
    "import seaborn as sns"
   ]
  },
  {
   "cell_type": "code",
   "execution_count": 4,
   "metadata": {},
   "outputs": [],
   "source": [
    "# Load Interact libraries\n",
    "from __future__ import print_function\n",
    "from ipywidgets import interact, interactive, fixed, interact_manual\n",
    "import ipywidgets as widgets"
   ]
  },
  {
   "cell_type": "code",
   "execution_count": 5,
   "metadata": {},
   "outputs": [
    {
     "name": "stdout",
     "output_type": "stream",
     "text": [
      "(1332, 7256)\n"
     ]
    }
   ],
   "source": [
    "# Read dataset from disk\n",
    "dataURL = \"../../../data/dataset_full.csv\"\n",
    "raw_data = pd.read_csv(dataURL)\n",
    "print(raw_data.shape)"
   ]
  },
  {
   "cell_type": "code",
   "execution_count": 6,
   "metadata": {},
   "outputs": [
    {
     "data": {
      "text/html": [
       "<div>\n",
       "<style scoped>\n",
       "    .dataframe tbody tr th:only-of-type {\n",
       "        vertical-align: middle;\n",
       "    }\n",
       "\n",
       "    .dataframe tbody tr th {\n",
       "        vertical-align: top;\n",
       "    }\n",
       "\n",
       "    .dataframe thead th {\n",
       "        text-align: right;\n",
       "    }\n",
       "</style>\n",
       "<table border=\"1\" class=\"dataframe\">\n",
       "  <thead>\n",
       "    <tr style=\"text-align: right;\">\n",
       "      <th></th>\n",
       "      <th>$number$</th>\n",
       "      <th>a</th>\n",
       "      <th>a4</th>\n",
       "      <th>abajo</th>\n",
       "      <th>abandonada</th>\n",
       "      <th>abandonado</th>\n",
       "      <th>abandonados</th>\n",
       "      <th>abandono</th>\n",
       "      <th>abarata</th>\n",
       "      <th>abarcan</th>\n",
       "      <th>...</th>\n",
       "      <th>kw_ya_que</th>\n",
       "      <th>struc_modal_auxiliary</th>\n",
       "      <th>struc_text_length</th>\n",
       "      <th>struc_text_position</th>\n",
       "      <th>struc_token_count</th>\n",
       "      <th>struc_avg_word_length</th>\n",
       "      <th>struc_punct_marks_count</th>\n",
       "      <th>synt_parse_tree_depth</th>\n",
       "      <th>synt_sub_clauses_count</th>\n",
       "      <th>label</th>\n",
       "    </tr>\n",
       "  </thead>\n",
       "  <tbody>\n",
       "    <tr>\n",
       "      <th>0</th>\n",
       "      <td>0.0</td>\n",
       "      <td>0.0</td>\n",
       "      <td>0.0</td>\n",
       "      <td>0.0</td>\n",
       "      <td>0.0</td>\n",
       "      <td>0.0</td>\n",
       "      <td>0.0</td>\n",
       "      <td>0.0</td>\n",
       "      <td>0.0</td>\n",
       "      <td>0.0</td>\n",
       "      <td>...</td>\n",
       "      <td>0.0</td>\n",
       "      <td>0.000000</td>\n",
       "      <td>0.022751</td>\n",
       "      <td>0.000000</td>\n",
       "      <td>0.012270</td>\n",
       "      <td>0.272727</td>\n",
       "      <td>0.000000</td>\n",
       "      <td>0.048780</td>\n",
       "      <td>0.015625</td>\n",
       "      <td>spam</td>\n",
       "    </tr>\n",
       "    <tr>\n",
       "      <th>1</th>\n",
       "      <td>0.0</td>\n",
       "      <td>0.0</td>\n",
       "      <td>0.0</td>\n",
       "      <td>0.0</td>\n",
       "      <td>0.0</td>\n",
       "      <td>0.0</td>\n",
       "      <td>0.0</td>\n",
       "      <td>0.0</td>\n",
       "      <td>0.0</td>\n",
       "      <td>0.0</td>\n",
       "      <td>...</td>\n",
       "      <td>0.0</td>\n",
       "      <td>0.000000</td>\n",
       "      <td>0.065150</td>\n",
       "      <td>0.000000</td>\n",
       "      <td>0.055215</td>\n",
       "      <td>0.272727</td>\n",
       "      <td>0.043478</td>\n",
       "      <td>0.219512</td>\n",
       "      <td>0.078125</td>\n",
       "      <td>claim</td>\n",
       "    </tr>\n",
       "    <tr>\n",
       "      <th>2</th>\n",
       "      <td>0.0</td>\n",
       "      <td>0.0</td>\n",
       "      <td>0.0</td>\n",
       "      <td>0.0</td>\n",
       "      <td>0.0</td>\n",
       "      <td>0.0</td>\n",
       "      <td>0.0</td>\n",
       "      <td>0.0</td>\n",
       "      <td>0.0</td>\n",
       "      <td>0.0</td>\n",
       "      <td>...</td>\n",
       "      <td>0.0</td>\n",
       "      <td>0.111111</td>\n",
       "      <td>0.130300</td>\n",
       "      <td>0.000000</td>\n",
       "      <td>0.128834</td>\n",
       "      <td>0.272727</td>\n",
       "      <td>0.086957</td>\n",
       "      <td>0.146341</td>\n",
       "      <td>0.117188</td>\n",
       "      <td>premise</td>\n",
       "    </tr>\n",
       "    <tr>\n",
       "      <th>3</th>\n",
       "      <td>0.0</td>\n",
       "      <td>0.2</td>\n",
       "      <td>0.0</td>\n",
       "      <td>0.0</td>\n",
       "      <td>0.0</td>\n",
       "      <td>0.0</td>\n",
       "      <td>0.0</td>\n",
       "      <td>0.0</td>\n",
       "      <td>0.0</td>\n",
       "      <td>0.0</td>\n",
       "      <td>...</td>\n",
       "      <td>0.0</td>\n",
       "      <td>0.000000</td>\n",
       "      <td>0.062048</td>\n",
       "      <td>0.047619</td>\n",
       "      <td>0.049080</td>\n",
       "      <td>0.363636</td>\n",
       "      <td>0.043478</td>\n",
       "      <td>0.146341</td>\n",
       "      <td>0.054688</td>\n",
       "      <td>claim</td>\n",
       "    </tr>\n",
       "    <tr>\n",
       "      <th>4</th>\n",
       "      <td>0.0</td>\n",
       "      <td>0.0</td>\n",
       "      <td>0.0</td>\n",
       "      <td>0.0</td>\n",
       "      <td>0.0</td>\n",
       "      <td>0.0</td>\n",
       "      <td>0.0</td>\n",
       "      <td>0.0</td>\n",
       "      <td>0.0</td>\n",
       "      <td>0.0</td>\n",
       "      <td>...</td>\n",
       "      <td>0.0</td>\n",
       "      <td>0.000000</td>\n",
       "      <td>0.002068</td>\n",
       "      <td>0.000000</td>\n",
       "      <td>0.006135</td>\n",
       "      <td>0.181818</td>\n",
       "      <td>0.086957</td>\n",
       "      <td>0.000000</td>\n",
       "      <td>0.000000</td>\n",
       "      <td>spam</td>\n",
       "    </tr>\n",
       "  </tbody>\n",
       "</table>\n",
       "<p>5 rows × 7256 columns</p>\n",
       "</div>"
      ],
      "text/plain": [
       "   $number$    a   a4  abajo  abandonada  abandonado  abandonados  abandono  \\\n",
       "0       0.0  0.0  0.0    0.0         0.0         0.0          0.0       0.0   \n",
       "1       0.0  0.0  0.0    0.0         0.0         0.0          0.0       0.0   \n",
       "2       0.0  0.0  0.0    0.0         0.0         0.0          0.0       0.0   \n",
       "3       0.0  0.2  0.0    0.0         0.0         0.0          0.0       0.0   \n",
       "4       0.0  0.0  0.0    0.0         0.0         0.0          0.0       0.0   \n",
       "\n",
       "   abarata  abarcan  ...  kw_ya_que  struc_modal_auxiliary  struc_text_length  \\\n",
       "0      0.0      0.0  ...        0.0               0.000000           0.022751   \n",
       "1      0.0      0.0  ...        0.0               0.000000           0.065150   \n",
       "2      0.0      0.0  ...        0.0               0.111111           0.130300   \n",
       "3      0.0      0.0  ...        0.0               0.000000           0.062048   \n",
       "4      0.0      0.0  ...        0.0               0.000000           0.002068   \n",
       "\n",
       "   struc_text_position  struc_token_count  struc_avg_word_length  \\\n",
       "0             0.000000           0.012270               0.272727   \n",
       "1             0.000000           0.055215               0.272727   \n",
       "2             0.000000           0.128834               0.272727   \n",
       "3             0.047619           0.049080               0.363636   \n",
       "4             0.000000           0.006135               0.181818   \n",
       "\n",
       "   struc_punct_marks_count  synt_parse_tree_depth  synt_sub_clauses_count  \\\n",
       "0                 0.000000               0.048780                0.015625   \n",
       "1                 0.043478               0.219512                0.078125   \n",
       "2                 0.086957               0.146341                0.117188   \n",
       "3                 0.043478               0.146341                0.054688   \n",
       "4                 0.086957               0.000000                0.000000   \n",
       "\n",
       "     label  \n",
       "0     spam  \n",
       "1    claim  \n",
       "2  premise  \n",
       "3    claim  \n",
       "4     spam  \n",
       "\n",
       "[5 rows x 7256 columns]"
      ]
     },
     "execution_count": 6,
     "metadata": {},
     "output_type": "execute_result"
    }
   ],
   "source": [
    "raw_data.head()"
   ]
  },
  {
   "cell_type": "code",
   "execution_count": 7,
   "metadata": {},
   "outputs": [],
   "source": [
    "# Function that obtains the numerical data from the data frame\n",
    "def getNumericalData(df):\n",
    "    num_df = pd.DataFrame()\n",
    "    \n",
    "    # Create DataFrame\n",
    "    for col in df.columns:\n",
    "        if str(df[col].dtype) in [\"int64\", \"float64\"]:\n",
    "            num_df[col] = df[col]\n",
    "    \n",
    "    return num_df"
   ]
  },
  {
   "cell_type": "code",
   "execution_count": 8,
   "metadata": {},
   "outputs": [
    {
     "name": "stderr",
     "output_type": "stream",
     "text": [
      "C:\\Users\\Usuario\\AppData\\Local\\Temp/ipykernel_7780/1727221646.py:8: PerformanceWarning: DataFrame is highly fragmented.  This is usually the result of calling `frame.insert` many times, which has poor performance.  Consider joining all columns at once using pd.concat(axis=1) instead.  To get a de-fragmented frame, use `newframe = frame.copy()`\n",
      "  num_df[col] = df[col]\n"
     ]
    },
    {
     "name": "stdout",
     "output_type": "stream",
     "text": [
      "(1332, 7255)\n"
     ]
    }
   ],
   "source": [
    "# Get only numeric columns/variables\n",
    "num_data = getNumericalData(raw_data)\n",
    "print(num_data.shape)"
   ]
  },
  {
   "cell_type": "code",
   "execution_count": 9,
   "metadata": {},
   "outputs": [
    {
     "data": {
      "text/html": [
       "<div>\n",
       "<style scoped>\n",
       "    .dataframe tbody tr th:only-of-type {\n",
       "        vertical-align: middle;\n",
       "    }\n",
       "\n",
       "    .dataframe tbody tr th {\n",
       "        vertical-align: top;\n",
       "    }\n",
       "\n",
       "    .dataframe thead th {\n",
       "        text-align: right;\n",
       "    }\n",
       "</style>\n",
       "<table border=\"1\" class=\"dataframe\">\n",
       "  <thead>\n",
       "    <tr style=\"text-align: right;\">\n",
       "      <th></th>\n",
       "      <th>$number$</th>\n",
       "      <th>a</th>\n",
       "      <th>a4</th>\n",
       "      <th>abajo</th>\n",
       "      <th>abandonada</th>\n",
       "      <th>abandonado</th>\n",
       "      <th>abandonados</th>\n",
       "      <th>abandono</th>\n",
       "      <th>abarata</th>\n",
       "      <th>abarcan</th>\n",
       "      <th>...</th>\n",
       "      <th>kw_visto_que</th>\n",
       "      <th>kw_ya_que</th>\n",
       "      <th>struc_modal_auxiliary</th>\n",
       "      <th>struc_text_length</th>\n",
       "      <th>struc_text_position</th>\n",
       "      <th>struc_token_count</th>\n",
       "      <th>struc_avg_word_length</th>\n",
       "      <th>struc_punct_marks_count</th>\n",
       "      <th>synt_parse_tree_depth</th>\n",
       "      <th>synt_sub_clauses_count</th>\n",
       "    </tr>\n",
       "  </thead>\n",
       "  <tbody>\n",
       "    <tr>\n",
       "      <th>0</th>\n",
       "      <td>0.0</td>\n",
       "      <td>0.0</td>\n",
       "      <td>0.0</td>\n",
       "      <td>0.0</td>\n",
       "      <td>0.0</td>\n",
       "      <td>0.0</td>\n",
       "      <td>0.0</td>\n",
       "      <td>0.0</td>\n",
       "      <td>0.0</td>\n",
       "      <td>0.0</td>\n",
       "      <td>...</td>\n",
       "      <td>0.0</td>\n",
       "      <td>0.0</td>\n",
       "      <td>0.000000</td>\n",
       "      <td>0.022751</td>\n",
       "      <td>0.000000</td>\n",
       "      <td>0.012270</td>\n",
       "      <td>0.272727</td>\n",
       "      <td>0.000000</td>\n",
       "      <td>0.048780</td>\n",
       "      <td>0.015625</td>\n",
       "    </tr>\n",
       "    <tr>\n",
       "      <th>1</th>\n",
       "      <td>0.0</td>\n",
       "      <td>0.0</td>\n",
       "      <td>0.0</td>\n",
       "      <td>0.0</td>\n",
       "      <td>0.0</td>\n",
       "      <td>0.0</td>\n",
       "      <td>0.0</td>\n",
       "      <td>0.0</td>\n",
       "      <td>0.0</td>\n",
       "      <td>0.0</td>\n",
       "      <td>...</td>\n",
       "      <td>0.0</td>\n",
       "      <td>0.0</td>\n",
       "      <td>0.000000</td>\n",
       "      <td>0.065150</td>\n",
       "      <td>0.000000</td>\n",
       "      <td>0.055215</td>\n",
       "      <td>0.272727</td>\n",
       "      <td>0.043478</td>\n",
       "      <td>0.219512</td>\n",
       "      <td>0.078125</td>\n",
       "    </tr>\n",
       "    <tr>\n",
       "      <th>2</th>\n",
       "      <td>0.0</td>\n",
       "      <td>0.0</td>\n",
       "      <td>0.0</td>\n",
       "      <td>0.0</td>\n",
       "      <td>0.0</td>\n",
       "      <td>0.0</td>\n",
       "      <td>0.0</td>\n",
       "      <td>0.0</td>\n",
       "      <td>0.0</td>\n",
       "      <td>0.0</td>\n",
       "      <td>...</td>\n",
       "      <td>0.0</td>\n",
       "      <td>0.0</td>\n",
       "      <td>0.111111</td>\n",
       "      <td>0.130300</td>\n",
       "      <td>0.000000</td>\n",
       "      <td>0.128834</td>\n",
       "      <td>0.272727</td>\n",
       "      <td>0.086957</td>\n",
       "      <td>0.146341</td>\n",
       "      <td>0.117188</td>\n",
       "    </tr>\n",
       "    <tr>\n",
       "      <th>3</th>\n",
       "      <td>0.0</td>\n",
       "      <td>0.2</td>\n",
       "      <td>0.0</td>\n",
       "      <td>0.0</td>\n",
       "      <td>0.0</td>\n",
       "      <td>0.0</td>\n",
       "      <td>0.0</td>\n",
       "      <td>0.0</td>\n",
       "      <td>0.0</td>\n",
       "      <td>0.0</td>\n",
       "      <td>...</td>\n",
       "      <td>0.0</td>\n",
       "      <td>0.0</td>\n",
       "      <td>0.000000</td>\n",
       "      <td>0.062048</td>\n",
       "      <td>0.047619</td>\n",
       "      <td>0.049080</td>\n",
       "      <td>0.363636</td>\n",
       "      <td>0.043478</td>\n",
       "      <td>0.146341</td>\n",
       "      <td>0.054688</td>\n",
       "    </tr>\n",
       "    <tr>\n",
       "      <th>4</th>\n",
       "      <td>0.0</td>\n",
       "      <td>0.0</td>\n",
       "      <td>0.0</td>\n",
       "      <td>0.0</td>\n",
       "      <td>0.0</td>\n",
       "      <td>0.0</td>\n",
       "      <td>0.0</td>\n",
       "      <td>0.0</td>\n",
       "      <td>0.0</td>\n",
       "      <td>0.0</td>\n",
       "      <td>...</td>\n",
       "      <td>0.0</td>\n",
       "      <td>0.0</td>\n",
       "      <td>0.000000</td>\n",
       "      <td>0.002068</td>\n",
       "      <td>0.000000</td>\n",
       "      <td>0.006135</td>\n",
       "      <td>0.181818</td>\n",
       "      <td>0.086957</td>\n",
       "      <td>0.000000</td>\n",
       "      <td>0.000000</td>\n",
       "    </tr>\n",
       "  </tbody>\n",
       "</table>\n",
       "<p>5 rows × 7255 columns</p>\n",
       "</div>"
      ],
      "text/plain": [
       "   $number$    a   a4  abajo  abandonada  abandonado  abandonados  abandono  \\\n",
       "0       0.0  0.0  0.0    0.0         0.0         0.0          0.0       0.0   \n",
       "1       0.0  0.0  0.0    0.0         0.0         0.0          0.0       0.0   \n",
       "2       0.0  0.0  0.0    0.0         0.0         0.0          0.0       0.0   \n",
       "3       0.0  0.2  0.0    0.0         0.0         0.0          0.0       0.0   \n",
       "4       0.0  0.0  0.0    0.0         0.0         0.0          0.0       0.0   \n",
       "\n",
       "   abarata  abarcan  ...  kw_visto_que  kw_ya_que  struc_modal_auxiliary  \\\n",
       "0      0.0      0.0  ...           0.0        0.0               0.000000   \n",
       "1      0.0      0.0  ...           0.0        0.0               0.000000   \n",
       "2      0.0      0.0  ...           0.0        0.0               0.111111   \n",
       "3      0.0      0.0  ...           0.0        0.0               0.000000   \n",
       "4      0.0      0.0  ...           0.0        0.0               0.000000   \n",
       "\n",
       "   struc_text_length  struc_text_position  struc_token_count  \\\n",
       "0           0.022751             0.000000           0.012270   \n",
       "1           0.065150             0.000000           0.055215   \n",
       "2           0.130300             0.000000           0.128834   \n",
       "3           0.062048             0.047619           0.049080   \n",
       "4           0.002068             0.000000           0.006135   \n",
       "\n",
       "   struc_avg_word_length  struc_punct_marks_count  synt_parse_tree_depth  \\\n",
       "0               0.272727                 0.000000               0.048780   \n",
       "1               0.272727                 0.043478               0.219512   \n",
       "2               0.272727                 0.086957               0.146341   \n",
       "3               0.363636                 0.043478               0.146341   \n",
       "4               0.181818                 0.086957               0.000000   \n",
       "\n",
       "   synt_sub_clauses_count  \n",
       "0                0.015625  \n",
       "1                0.078125  \n",
       "2                0.117188  \n",
       "3                0.054688  \n",
       "4                0.000000  \n",
       "\n",
       "[5 rows x 7255 columns]"
      ]
     },
     "execution_count": 9,
     "metadata": {},
     "output_type": "execute_result"
    }
   ],
   "source": [
    "num_data.head()"
   ]
  },
  {
   "cell_type": "markdown",
   "metadata": {},
   "source": [
    "## Apply LDA"
   ]
  },
  {
   "cell_type": "code",
   "execution_count": 10,
   "metadata": {},
   "outputs": [],
   "source": [
    "# Function that apply Principal Component Analysis\n",
    "def apply_lda(data, labels, std, n):\n",
    "    \n",
    "    # Standardize the Data\n",
    "    if std == True:\n",
    "        X = StandardScaler().fit_transform(data.values)\n",
    "    else:\n",
    "        X = data.values\n",
    "    \n",
    "    enc = LabelEncoder()\n",
    "    label_encoder = enc.fit(labels)\n",
    "    y = label_encoder.transform(labels)\n",
    "    \n",
    "    # Create a DataFrame from PCA\n",
    "    lda = LDA(n_components=n)\n",
    "    lda_data = lda.fit_transform(X, y)\n",
    "    lda_variance = lda.explained_variance_ratio_\n",
    "    components = [\"LDA\"+str(i) for i in range(1, n+1)]\n",
    "    lda_df = pd.DataFrame(data=lda_data, columns=components)\n",
    "    \n",
    "    return lda_df, lda_variance"
   ]
  },
  {
   "cell_type": "code",
   "execution_count": 11,
   "metadata": {},
   "outputs": [
    {
     "name": "stdout",
     "output_type": "stream",
     "text": [
      "2\n"
     ]
    }
   ],
   "source": [
    "# Apply the PCA algorith\n",
    "labels = raw_data[\"label\"]\n",
    "n_components = len(set(labels)) - 1\n",
    "lda_df, lda_var = apply_lda(num_data, labels, False, n_components)\n",
    "print(n_components)"
   ]
  },
  {
   "cell_type": "code",
   "execution_count": 12,
   "metadata": {},
   "outputs": [
    {
     "name": "stdout",
     "output_type": "stream",
     "text": [
      "Explained Variance Ratio: 100.0\n"
     ]
    }
   ],
   "source": [
    "# Show the total explained variance ratio of model\n",
    "print('Explained Variance Ratio:', sum(lda_var) * 100)"
   ]
  },
  {
   "cell_type": "code",
   "execution_count": 13,
   "metadata": {},
   "outputs": [
    {
     "data": {
      "text/html": [
       "<div>\n",
       "<style scoped>\n",
       "    .dataframe tbody tr th:only-of-type {\n",
       "        vertical-align: middle;\n",
       "    }\n",
       "\n",
       "    .dataframe tbody tr th {\n",
       "        vertical-align: top;\n",
       "    }\n",
       "\n",
       "    .dataframe thead th {\n",
       "        text-align: right;\n",
       "    }\n",
       "</style>\n",
       "<table border=\"1\" class=\"dataframe\">\n",
       "  <thead>\n",
       "    <tr style=\"text-align: right;\">\n",
       "      <th></th>\n",
       "      <th>LDA1</th>\n",
       "      <th>LDA2</th>\n",
       "      <th>label</th>\n",
       "    </tr>\n",
       "  </thead>\n",
       "  <tbody>\n",
       "    <tr>\n",
       "      <th>0</th>\n",
       "      <td>11.179953</td>\n",
       "      <td>12.886342</td>\n",
       "      <td>spam</td>\n",
       "    </tr>\n",
       "    <tr>\n",
       "      <th>1</th>\n",
       "      <td>-44.069918</td>\n",
       "      <td>-11.088276</td>\n",
       "      <td>claim</td>\n",
       "    </tr>\n",
       "    <tr>\n",
       "      <th>2</th>\n",
       "      <td>37.946152</td>\n",
       "      <td>-55.683425</td>\n",
       "      <td>premise</td>\n",
       "    </tr>\n",
       "    <tr>\n",
       "      <th>3</th>\n",
       "      <td>-44.009614</td>\n",
       "      <td>-11.224104</td>\n",
       "      <td>claim</td>\n",
       "    </tr>\n",
       "    <tr>\n",
       "      <th>4</th>\n",
       "      <td>5.302567</td>\n",
       "      <td>10.745235</td>\n",
       "      <td>spam</td>\n",
       "    </tr>\n",
       "  </tbody>\n",
       "</table>\n",
       "</div>"
      ],
      "text/plain": [
       "        LDA1       LDA2    label\n",
       "0  11.179953  12.886342     spam\n",
       "1 -44.069918 -11.088276    claim\n",
       "2  37.946152 -55.683425  premise\n",
       "3 -44.009614 -11.224104    claim\n",
       "4   5.302567  10.745235     spam"
      ]
     },
     "execution_count": 13,
     "metadata": {},
     "output_type": "execute_result"
    }
   ],
   "source": [
    "# Create the PCA data\n",
    "lda_df = pd.concat([lda_df, raw_data[[\"label\"]]], axis=1)\n",
    "lda_df.head()"
   ]
  },
  {
   "cell_type": "markdown",
   "metadata": {},
   "source": [
    "## PCA Variance Ratio"
   ]
  },
  {
   "cell_type": "code",
   "execution_count": 14,
   "metadata": {},
   "outputs": [],
   "source": [
    "# Create horizontal bar chart data\n",
    "bars = tuple(lda_df.columns[:n_components])\n",
    "y_pos = np.arange(len(bars))\n",
    "values = lda_var * 100\n",
    "cum = np.cumsum(values)"
   ]
  },
  {
   "cell_type": "code",
   "execution_count": 15,
   "metadata": {},
   "outputs": [
    {
     "data": {
      "image/png": "[encoded data removed]",
      "text/plain": [
       "<Figure size 864x720 with 1 Axes>"
      ]
     },
     "metadata": {
      "needs_background": "light"
     },
     "output_type": "display_data"
    }
   ],
   "source": [
    "# Set up the matplotlib figure\n",
    "fig, ax2 = plt.subplots(figsize=(12, 10))\n",
    "\n",
    "plt.bar(y_pos, values, align=\"center\", alpha=0.7)\n",
    "plt.xticks(y_pos, bars)\n",
    "plt.plot(y_pos, cum, color=\"orange\", linewidth=2, marker=\"o\")\n",
    "plt.title(\"Variance Ratio By Component\", fontsize=20)\n",
    "\n",
    "# Add bar labels\n",
    "for i, v in enumerate(cum):\n",
    "    ax2.text(i-.15, v-0.5, (str(round(v, 1))+\"%\"), color=\"black\", fontweight=\"normal\", fontsize=10)\n",
    "\n",
    "# Plot setup\n",
    "plt.xlabel(\"Components\", fontsize=12)\n",
    "plt.ylabel(\"Explained variance in percent\", fontsize=12)\n",
    "plt.legend((\"Cum\", \"Var\"), loc=\"best\")\n",
    "plt.grid(True)\n",
    "plt.show()"
   ]
  },
  {
   "cell_type": "markdown",
   "metadata": {},
   "source": [
    "## Clustering: K-Means"
   ]
  },
  {
   "cell_type": "code",
   "execution_count": 16,
   "metadata": {},
   "outputs": [],
   "source": [
    "# Getting the values and plotting it\n",
    "X = lda_df.iloc[:,:-1].values\n",
    "y = lda_df.iloc[:,-1].values"
   ]
  },
  {
   "cell_type": "code",
   "execution_count": 17,
   "metadata": {},
   "outputs": [
    {
     "name": "stderr",
     "output_type": "stream",
     "text": [
      "C:\\Users\\Usuario\\anaconda3\\lib\\site-packages\\sklearn\\cluster\\_kmeans.py:881: UserWarning: KMeans is known to have a memory leak on Windows with MKL, when there are less chunks than available threads. You can avoid it by setting the environment variable OMP_NUM_THREADS=6.\n",
      "  warnings.warn(\n"
     ]
    }
   ],
   "source": [
    "# Calculating the Jambu Elbow\n",
    "k_range = range(1, 20)\n",
    "kmeans_per_k = [KMeans(n_clusters=k, random_state=42).fit(X) for k in k_range]\n",
    "inertias = [model.inertia_ for model in kmeans_per_k]"
   ]
  },
  {
   "cell_type": "code",
   "execution_count": 18,
   "metadata": {},
   "outputs": [
    {
     "data": {
      "image/png": "[encoded data removed]",
      "text/plain": [
       "<Figure size 1008x432 with 1 Axes>"
      ]
     },
     "metadata": {
      "needs_background": "light"
     },
     "output_type": "display_data"
    }
   ],
   "source": [
    "# Plot the results\n",
    "plt.figure(figsize=(14, 6))\n",
    "plt.plot(k_range, inertias, marker='o')\n",
    "plt.axvline(x=3, color=\"#8b0000\", linestyle=\"--\")\n",
    "plt.xticks(np.arange(1, 20, 1))\n",
    "plt.xlabel(\"$k$\", fontsize=12)\n",
    "plt.ylabel(\"Inertia\", fontsize=12)\n",
    "plt.title(\"Jambu Elbow Curve\", fontsize=20)\n",
    "plt.grid(True)\n",
    "plt.show()"
   ]
  },
  {
   "cell_type": "markdown",
   "metadata": {},
   "source": [
    "### Compare results with K-means grouping"
   ]
  },
  {
   "cell_type": "code",
   "execution_count": 19,
   "metadata": {},
   "outputs": [],
   "source": [
    "# Create scatter plot with K-Means data\n",
    "def plot_kmeans_data(data, k_clusters, centroids, clusters):\n",
    "    fig, ax = plt.subplots(figsize=(14, 14))\n",
    "    \n",
    "    # Plotting vars\n",
    "    colors = [\"#1f77b4\", \"#2ca02c\", \"#d62728\", \"#ff7f0e\", \"#9467bd\", \"#8c564b\", \"#e377c2\", \"#7f7f7f\", \"#bcbd22\", \"#17becf\"]\n",
    "    n_data = len(data)\n",
    "    \n",
    "    # Create scatter plot\n",
    "    for i in range(k_clusters):\n",
    "        points = np.array([data[j] for j in range(n_data) if clusters[j] == i])\n",
    "        sns.scatterplot(ax=ax, x=points[:, 0], y=points[:, 1], size=5, color=colors[i])\n",
    "    plt.scatter(centroids[:, 0], centroids[:, 1], s=20, color=\"black\", marker=\"D\")\n",
    "    \n",
    "    # Plot setup\n",
    "    ax.set_xlabel(\"PC 1\", fontsize=12)\n",
    "    ax.set_ylabel(\"PC 2\", fontsize=12)\n",
    "    ax.set_title(\"Argumentative Annotations - Clustering results\", fontsize=20)\n",
    "    ax.legend([\"Cluster \" + str(i) for i in range(1, k_clusters+1)])\n",
    "    ax.grid()"
   ]
  },
  {
   "cell_type": "code",
   "execution_count": 20,
   "metadata": {},
   "outputs": [],
   "source": [
    "# Calculates the K-Means for (x, y) dataset\n",
    "def run_kmeans(k_clusters):\n",
    "    kmeans = KMeans(n_clusters=k_clusters, algorithm=\"elkan\", random_state=42)\n",
    "    kmeans = kmeans.fit(X)\n",
    "    \n",
    "    # Getting the cluster labels\n",
    "    clusters = kmeans.predict(X)\n",
    "    \n",
    "    # Centroid values\n",
    "    centroids = kmeans.cluster_centers_\n",
    "    \n",
    "    # Plotting K-Means result\n",
    "    plot_kmeans_data(X, k_clusters, centroids, clusters)"
   ]
  },
  {
   "cell_type": "code",
   "execution_count": 21,
   "metadata": {
    "scrolled": false
   },
   "outputs": [
    {
     "data": {
      "image/png": "[encoded data removed]",
      "text/plain": [
       "<Figure size 1008x1008 with 1 Axes>"
      ]
     },
     "metadata": {
      "needs_background": "light"
     },
     "output_type": "display_data"
    }
   ],
   "source": [
    "# Create interactive control to control k value\n",
    "# interactive(run_kmeans, k_clusters = widgets.IntSlider(min=1, max=7, step=1, value=3))\n",
    "run_kmeans(k_clusters=3)"
   ]
  },
  {
   "cell_type": "markdown",
   "metadata": {},
   "source": [
    "### Compare results with natural grouping"
   ]
  },
  {
   "cell_type": "code",
   "execution_count": 22,
   "metadata": {},
   "outputs": [],
   "source": [
    "# Palette by positions dictionary\n",
    "color_palette = dict()\n",
    "color_palette[\"majorclaim\"] = \"#dc3912\"\n",
    "color_palette[\"claim\"] = \"#3366cc\"\n",
    "color_palette[\"premise\"] = \"#ff9900\"\n",
    "color_palette[\"spam\"] = \"#109618\""
   ]
  },
  {
   "cell_type": "code",
   "execution_count": 23,
   "metadata": {},
   "outputs": [
    {
     "data": {
      "image/png": "[encoded data removed]",
      "text/plain": [
       "<Figure size 1008x1008 with 1 Axes>"
      ]
     },
     "metadata": {
      "needs_background": "light"
     },
     "output_type": "display_data"
    }
   ],
   "source": [
    "# Create scatter plot with players label\n",
    "fig, ax = plt.subplots(figsize=(14, 14))\n",
    "\n",
    "# Create 2D scatter plot\n",
    "plot = sns.scatterplot(ax=ax, data=lda_df, x=\"LDA1\", y=\"LDA2\", hue=\"label\", palette=color_palette)\n",
    "\n",
    "# Plot setup\n",
    "ax.set_xlabel(\"LDA 1\", fontsize=12)\n",
    "ax.set_ylabel(\"LDA 2\", fontsize=12)\n",
    "ax.set_title(\"Argumentative Annotations - Real results\", fontsize=20)\n",
    "ax.grid()"
   ]
  },
  {
   "cell_type": "markdown",
   "metadata": {},
   "source": [
    "---\n",
    "<a href=\"https://ansegura7.github.io/DataScience_FIFA19Data/\">&laquo; Home</a>"
   ]
  }
 ],
 "metadata": {
  "kernelspec": {
   "display_name": "Python 3 (ipykernel)",
   "language": "python",
   "name": "python3"
  },
  "language_info": {
   "codemirror_mode": {
    "name": "ipython",
    "version": 3
   },
   "file_extension": ".py",
   "mimetype": "text/x-python",
   "name": "python",
   "nbconvert_exporter": "python",
   "pygments_lexer": "ipython3",
   "version": "3.9.7"
  }
 },
 "nbformat": 4,
 "nbformat_minor": 2
}
